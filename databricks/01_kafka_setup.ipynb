{
 "cells": [
  {
   "cell_type": "code",
   "execution_count": null,
   "metadata": {
    "vscode": {
     "languageId": "plaintext"
    }
   },
   "outputs": [],
   "source": [
    "# Configure Spark to read from Kafka\n",
    "kafka_options = {\n",
    "    \"kafka.bootstrap.servers\": \"kafka_broker:9092\",\n",
    "    \"subscribe\": \"weather-readings\",\n",
    "    \"startingOffsets\": \"earliest\"\n",
    "}\n",
    "\n",
    "# Read streaming data from Kafka\n",
    "weather_stream = spark.readStream \\\n",
    "    .format(\"kafka\") \\\n",
    "    .options(**kafka_options) \\\n",
    "    .load()\n",
    "\n",
    "# Parse JSON data\n",
    "from pyspark.sql.functions import from_json, col, window\n",
    "from pyspark.sql.types import StructType, StructField, StringType, DoubleType\n",
    "\n",
    "schema = StructType([\n",
    "    StructField(\"sensor_id\", StringType()),\n",
    "    StructField(\"temperature\", DoubleType()),\n",
    "    StructField(\"humidity\", DoubleType()),\n",
    "    StructField(\"wind_speed\", DoubleType()),\n",
    "    StructField(\"timestamp\", StringType())\n",
    "])\n",
    "\n",
    "parsed_stream = weather_stream \\\n",
    "    .select(from_json(col(\"value\").cast(\"string\"), schema).alias(\"data\")) \\\n",
    "    .select(\"data.*\")\n",
    "\n",
    "# Calculate rolling averages and detect anomalies\n",
    "windowed_stats = parsed_stream \\\n",
    "    .withWatermark(\"timestamp\", \"10 minutes\") \\\n",
    "    .groupBy(\n",
    "        window(\"timestamp\", \"5 minutes\"),\n",
    "        \"sensor_id\"\n",
    "    ) \\\n",
    "    .agg({\n",
    "        \"temperature\": \"avg\",\n",
    "        \"humidity\": \"avg\",\n",
    "        \"wind_speed\": \"avg\"\n",
    "    })\n",
    "\n",
    "# Write to Delta Lake\n",
    "query = windowed_stats \\\n",
    "    .writeStream \\\n",
    "    .format(\"delta\") \\\n",
    "    .outputMode(\"append\") \\\n",
    "    .option(\"checkpointLocation\", \"/path/to/checkpoint\") \\\n",
    "    .table(\"weather_stats\")"
   ]
  }
 ],
 "metadata": {
  "language_info": {
   "name": "python"
  }
 },
 "nbformat": 4,
 "nbformat_minor": 2
}
